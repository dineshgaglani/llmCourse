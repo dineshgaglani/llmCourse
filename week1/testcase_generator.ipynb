{
 "cells": [
  {
   "cell_type": "code",
   "execution_count": 84,
   "id": "e047a183-dc6d-41ca-8eee-38dabe5593c0",
   "metadata": {},
   "outputs": [],
   "source": [
    "# imports\n",
    "\n",
    "import os\n",
    "import requests\n",
    "from dotenv import load_dotenv\n",
    "from IPython.display import Markdown, display\n",
    "from openai import OpenAI\n"
   ]
  },
  {
   "cell_type": "code",
   "execution_count": 85,
   "id": "a82ce813-dcbc-4781-9873-d9e2a62a2cd5",
   "metadata": {},
   "outputs": [
    {
     "name": "stdout",
     "output_type": "stream",
     "text": [
      "API key found and looks good so far!\n"
     ]
    }
   ],
   "source": [
    "# Load environment variables in a file called .env\n",
    "\n",
    "load_dotenv(override=True)\n",
    "api_key = os.getenv('OPENAI_API_KEY')\n",
    "\n",
    "# Check the key\n",
    "\n",
    "if not api_key:\n",
    "    print(\"No API key was found - please head over to the troubleshooting notebook in this folder to identify & fix!\")\n",
    "elif not api_key.startswith(\"sk-proj-\"):\n",
    "    print(\"An API key was found, but it doesn't start sk-proj-; please check you're using the right key - see troubleshooting notebook\")\n",
    "elif api_key.strip() != api_key:\n",
    "    print(\"An API key was found, but it looks like it might have space or tab characters at the start or end - please remove them - see troubleshooting notebook\")\n",
    "else:\n",
    "    print(\"API key found and looks good so far!\")"
   ]
  },
  {
   "cell_type": "code",
   "execution_count": 86,
   "id": "84d8bb7a-1eb9-4e67-b661-f63ef7f3ebb3",
   "metadata": {},
   "outputs": [],
   "source": [
    "MODEL = 'gpt-4o-mini'\n",
    "openai = OpenAI()\n",
    "\n",
    "# If this doesn't work, try Kernel menu >> Restart Kernel and Clear Outputs Of All Cells, then run the cells from the top of this notebook down.\n",
    "# If it STILL doesn't work (horrors!) then please see the Troubleshooting notebook in this folder for full instructions"
   ]
  },
  {
   "cell_type": "code",
   "execution_count": 87,
   "id": "fc39d7da-05dd-487c-ac29-2b829cd62a74",
   "metadata": {},
   "outputs": [],
   "source": [
    "# Define our system prompt - you can experiment with this later, changing the last sentence to 'Respond in markdown in Spanish.\"\n",
    "\n",
    "test_case_provider_system_prompt = \"You are a test engineer who when given a scenario can provide 3 to 5 test cases. \\\n",
    "The test cases are in the following json format \\\n",
    "[[\\\"Step1\\\", \\\"Step2\\\"], [\\\"Step1\\\", \\\"Step2\\\"]] \\\n",
    "Each array in the json represents a test case\""
   ]
  },
  {
   "cell_type": "code",
   "execution_count": 88,
   "id": "44669bc5-8974-4e9d-b22f-d3016dbce0f3",
   "metadata": {},
   "outputs": [],
   "source": [
    "def user_prompt_for_test_case_provider(scenario):\n",
    "    user_prompt = f\"provide testcases for the scenario: {scenario}\"\n",
    "    return user_prompt"
   ]
  },
  {
   "cell_type": "code",
   "execution_count": 89,
   "id": "3671f5a9-da08-41be-878a-00e28e82c464",
   "metadata": {},
   "outputs": [],
   "source": [
    "def prompt_testcases_for(scenario):\n",
    "    return [\n",
    "        {\"role\": \"system\", \"content\": test_case_provider_system_prompt},\n",
    "        {\"role\": \"user\", \"content\": user_prompt_for_test_case_provider(scenario)}\n",
    "    ]"
   ]
  },
  {
   "cell_type": "code",
   "execution_count": null,
   "id": "faa9090a-cf0e-4bbc-b3a3-f44a7ffb8b1f",
   "metadata": {},
   "outputs": [],
   "source": [
    "prompt_testcases_for(\"a directed graph that will not execute cyclic nodes the second time they are encountered\")"
   ]
  },
  {
   "cell_type": "code",
   "execution_count": 96,
   "id": "b2cf76fd-d184-41ad-8886-9eaef97c1fdf",
   "metadata": {},
   "outputs": [],
   "source": [
    "# And now: call the OpenAI API. You will get very familiar with this!\n",
    "def generate_testcases_for(scenario):\n",
    "    response = openai.chat.completions.create(\n",
    "        model=MODEL,\n",
    "        messages=prompt_testcases_for(scenario),\n",
    "        response_format={\"type\": \"json_object\"}\n",
    "    )\n",
    "    result = response.choices[0].message.content\n",
    "    return result"
   ]
  },
  {
   "cell_type": "code",
   "execution_count": null,
   "id": "13eb2cd2-ae68-48d7-85c7-8d06be08113a",
   "metadata": {},
   "outputs": [],
   "source": [
    "generate_testcases_for(\"a directed graph that will not execute cyclic nodes the second time they are encountered\")"
   ]
  },
  {
   "cell_type": "code",
   "execution_count": 91,
   "id": "c6c0202c-6aaa-4634-9c5e-61c4568de6e2",
   "metadata": {},
   "outputs": [],
   "source": [
    "# Define our system prompt\n",
    "\n",
    "test_case_consolidator_system_prompt = \"Consolidate the following test cases by eliminating duplicates. When consolidating test cases: 1. Abstract specific details (e.g., names, identifiers, or labels) and focus on the core functionality or behavior being tested. 2. Treat test cases as duplicates if they test the same functionality, workflow, or structure, even if the input values or labels differ. 3. Retain test cases as unique if they test different functionalities, workflows, structures, or edge cases. Provide the output in JSON format: - `consolidatesTests`: Consolidated test cases with duplicates merged into one generalized case, while retaining unique cases. - `explanation`: A detailed explanation of why each test case was consolidated or retained as unique\""
   ]
  },
  {
   "cell_type": "code",
   "execution_count": 92,
   "id": "476222db-ebb8-408f-9092-b4f2eeac5d7f",
   "metadata": {},
   "outputs": [],
   "source": [
    "def user_prompt_for_test_case_consolidator(testcases):\n",
    "    user_prompt = f'Consolidate the following test cases (represented as arrays of strings): {testcases}'\n",
    "    return user_prompt"
   ]
  },
  {
   "cell_type": "code",
   "execution_count": 93,
   "id": "f9567944-ae66-4e09-8c00-ee0d0b5ff375",
   "metadata": {},
   "outputs": [],
   "source": [
    "def consolidator_prompt_for_testcases(testcases):\n",
    "    return [\n",
    "        {\"role\": \"system\", \"content\": test_case_consolidator_system_prompt},\n",
    "        {\"role\": \"user\", \"content\": user_prompt_for_test_case_consolidator(testcases)}\n",
    "    ]"
   ]
  },
  {
   "cell_type": "code",
   "execution_count": null,
   "id": "1b949d36-5a8f-4800-a276-50ff63ed1019",
   "metadata": {},
   "outputs": [],
   "source": [
    "#The arg to the function are the testcases that were generated for the scenario \"a directed graph that will not execute cyclic nodes the second time they are encountered\"\n",
    "consolidator_prompt_for_testcases([\n",
    "    [\"Create directed graph with nodes A, B, C\", \"Add directed edges A -> B, B -> C, C -> A\", \"Execute graph traversal from A\"],\n",
    "    [\"Create directed graph with nodes D, E, F\", \"Add directed edges D -> E, E -> F, F -> D\", \"Execute graph traversal from D\"],\n",
    "    [\"Create directed graph with nodes G, H, I\", \"Add directed edges G -> H, H -> I, I -> H\", \"Execute graph traversal from G\"],\n",
    "    [\"Create directed graph with nodes J, K, L\", \"Add directed edges J -> K, K -> L, L -> J\", \"Execute graph traversal from J\"],\n",
    "    [\"Create directed graph with nodes M, N, O\", \"Add directed edges M -> N, N -> O, O -> M\", \"Execute graph traversal from M\"]\n",
    "])"
   ]
  },
  {
   "cell_type": "code",
   "execution_count": 94,
   "id": "485b3dae-0457-4d07-9f09-61552b589aa6",
   "metadata": {},
   "outputs": [],
   "source": [
    "# And now: call the OpenAI API. You will get very familiar with this!\n",
    "def consolidate_testcases(testcases):\n",
    "    response = openai.chat.completions.create(\n",
    "        model=MODEL,\n",
    "        messages=consolidator_prompt_for_testcases(testcases),\n",
    "        response_format={\"type\": \"json_object\"}\n",
    "    )\n",
    "    result = response.choices[0].message.content\n",
    "    return result"
   ]
  },
  {
   "cell_type": "code",
   "execution_count": null,
   "id": "8aee41c4-d32e-4eed-9828-71a652f1d261",
   "metadata": {},
   "outputs": [],
   "source": [
    "consolidate_testcases([\n",
    "    [\"Create directed graph with nodes A, B, C\", \"Add directed edges A -> B, B -> C, C -> A\", \"Execute graph traversal from A\"],\n",
    "    [\"Create directed graph with nodes D, E, F\", \"Add directed edges D -> E, E -> F, F -> D\", \"Execute graph traversal from D\"],\n",
    "    [\"Create directed graph with nodes G, H, I\", \"Add directed edges G -> H, H -> I, I -> H\", \"Execute graph traversal from G\"],\n",
    "    [\"Create directed graph with nodes J, K, L\", \"Add directed edges J -> K, K -> L, L -> J\", \"Execute graph traversal from J\"],\n",
    "    [\"Create directed graph with nodes M, N, O\", \"Add directed edges M -> N, N -> O, O -> M\", \"Execute graph traversal from M\"]\n",
    "])"
   ]
  },
  {
   "cell_type": "code",
   "execution_count": 97,
   "id": "aefc9589-4e07-453e-8a33-0635b9bec3bc",
   "metadata": {},
   "outputs": [
    {
     "name": "stdout",
     "output_type": "stream",
     "text": [
      "generated_cases_patient_appointment: {\n",
      "  \"test_cases\": [\n",
      "    [\"User logs into the system\", \"User navigates to the appointment booking section\", \"User selects a doctor\", \"User chooses a date and time\", \"User confirms the appointment\"],\n",
      "    [\"User logs into the system\", \"User navigates to the appointment cancellation section\", \"User selects an existing appointment\", \"User confirms cancellation\", \"System displays confirmation message\"],\n",
      "    [\"User logs into the system\", \"User navigates to the appointment history section\", \"User views past appointments\", \"User checks details of a specific appointment\", \"User logs out of the system\"],\n",
      "    [\"User logs into the system\", \"User navigates to the appointment rescheduling section\", \"User selects an existing appointment\", \"User chooses a new date and time\", \"User confirms the rescheduling\"],\n",
      "    [\"User logs into the system\", \"User attempts to book an appointment without selecting a doctor\", \"System prompts user to select a doctor\", \"User selects a doctor\", \"User completes the appointment booking process\"]\n",
      "  ]\n",
      "}\n",
      "consolidated_cases_patient_appointment: {\n",
      "  \"consolidatedTests\": [\n",
      "    {\n",
      "      \"description\": \"User logs into the system and navigates to appointment booking, booking an appointment with selected doctor and time.\",\n",
      "      \"steps\": [\n",
      "        \"User logs into the system\",\n",
      "        \"User navigates to the appointment booking section\",\n",
      "        \"User selects a doctor\",\n",
      "        \"User chooses a date and time\",\n",
      "        \"User confirms the appointment\"\n",
      "      ]\n",
      "    },\n",
      "    {\n",
      "      \"description\": \"User logs into the system and cancels an existing appointment.\",\n",
      "      \"steps\": [\n",
      "        \"User logs into the system\",\n",
      "        \"User navigates to the appointment cancellation section\",\n",
      "        \"User selects an existing appointment\",\n",
      "        \"User confirms cancellation\",\n",
      "        \"System displays confirmation message\"\n",
      "      ]\n",
      "    },\n",
      "    {\n",
      "      \"description\": \"User logs into the system and views history of past appointments.\",\n",
      "      \"steps\": [\n",
      "        \"User logs into the system\",\n",
      "        \"User navigates to the appointment history section\",\n",
      "        \"User views past appointments\",\n",
      "        \"User checks details of a specific appointment\",\n",
      "        \"User logs out of the system\"\n",
      "      ]\n",
      "    },\n",
      "    {\n",
      "      \"description\": \"User logs into the system and reschedules an existing appointment.\",\n",
      "      \"steps\": [\n",
      "        \"User logs into the system\",\n",
      "        \"User navigates to the appointment rescheduling section\",\n",
      "        \"User selects an existing appointment\",\n",
      "        \"User chooses a new date and time\",\n",
      "        \"User confirms the rescheduling\"\n",
      "      ]\n",
      "    },\n",
      "    {\n",
      "      \"description\": \"User logs into the system and receives a prompt for error handling when not selecting a doctor during the appointment booking process.\",\n",
      "      \"steps\": [\n",
      "        \"User logs into the system\",\n",
      "        \"User attempts to book an appointment without selecting a doctor\",\n",
      "        \"System prompts user to select a doctor\",\n",
      "        \"User selects a doctor\",\n",
      "        \"User completes the appointment booking process\"\n",
      "      ]\n",
      "    }\n",
      "  ],\n",
      "  \"explanation\": {\n",
      "    \"consolidation\": [\n",
      "      {\n",
      "        \"reason\": \"The test cases for booking, cancellation, history viewing, and rescheduling all represent distinct functionalities within the appointment management workflow. Each of these workflows targets a unique aspect of user interaction with the appointment system, which justifies their retention as separate test cases.\"\n",
      "      },\n",
      "      {\n",
      "        \"reason\": \"The prompt for selecting a doctor is also a distinct scenario that focuses on error handling during appointment booking. Despite the overlap in initial steps, the subsequent actions and expected outcomes differ significantly from typical booking scenarios.\"\n",
      "      }\n",
      "    ]\n",
      "  }\n",
      "}\n"
     ]
    }
   ],
   "source": [
    "generated_cases_patient_appointment = generate_testcases_for(\"Medical office patient appointment system\")\n",
    "print(f'generated_cases_patient_appointment: {generated_cases_patient_appointment}')\n",
    "consolidated_cases_patient_appointment = consolidate_testcases(generated_cases_patient_appointment)\n",
    "print(f'consolidated_cases_patient_appointment: {consolidated_cases_patient_appointment}')"
   ]
  },
  {
   "cell_type": "code",
   "execution_count": null,
   "id": "ef6e36c0-f151-4cad-8727-4f464f7dd295",
   "metadata": {},
   "outputs": [],
   "source": []
  }
 ],
 "metadata": {
  "kernelspec": {
   "display_name": "Python 3 (ipykernel)",
   "language": "python",
   "name": "python3"
  },
  "language_info": {
   "codemirror_mode": {
    "name": "ipython",
    "version": 3
   },
   "file_extension": ".py",
   "mimetype": "text/x-python",
   "name": "python",
   "nbconvert_exporter": "python",
   "pygments_lexer": "ipython3",
   "version": "3.11.11"
  }
 },
 "nbformat": 4,
 "nbformat_minor": 5
}
