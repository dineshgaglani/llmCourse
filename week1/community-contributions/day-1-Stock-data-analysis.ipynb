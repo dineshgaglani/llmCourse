{
 "cells": [
  {
   "cell_type": "markdown",
   "id": "306f1a67-4f1c-4aed-8f80-2a8458a1bce5",
   "metadata": {},
   "source": [
    "# Stock data analysis"
   ]
  },
  {
   "cell_type": "code",
   "execution_count": 24,
   "id": "4e2a9393-7767-488e-a8bf-27c12dca35bd",
   "metadata": {},
   "outputs": [],
   "source": [
    "import os\n",
    "import requests\n",
    "from dotenv import load_dotenv\n",
    "from bs4 import BeautifulSoup\n",
    "from IPython.display import Markdown, display, HTML\n",
    "from openai import OpenAI\n",
    "\n",
    "# If you get an error running this cell, then please head over to the troubleshooting notebook!"
   ]
  },
  {
   "cell_type": "markdown",
   "id": "6900b2a8-6384-4316-8aaa-5e519fca4254",
   "metadata": {},
   "source": [
    "# Connecting to OpenAI"
   ]
  },
  {
   "cell_type": "code",
   "execution_count": null,
   "id": "7b87cadb-d513-4303-baee-a37b6f938e4d",
   "metadata": {},
   "outputs": [],
   "source": [
    "# Load environment variables in a file called .env\n",
    "\n",
    "load_dotenv(override=True)\n",
    "api_key = os.getenv('OPENAI_API_KEY')\n",
    "\n",
    "# Check the key\n",
    "\n",
    "if not api_key:\n",
    "    print(\"No API key was found - please head over to the troubleshooting notebook in this folder to identify & fix!\")\n",
    "elif not api_key.startswith(\"sk-proj-\"):\n",
    "    print(\"An API key was found, but it doesn't start sk-proj-; please check you're using the right key - see troubleshooting notebook\")\n",
    "elif api_key.strip() != api_key:\n",
    "    print(\"An API key was found, but it looks like it might have space or tab characters at the start or end - please remove them - see troubleshooting notebook\")\n",
    "else:\n",
    "    print(\"API key found and looks good so far!\")\n"
   ]
  },
  {
   "cell_type": "code",
   "execution_count": null,
   "id": "019974d9-f3ad-4a8a-b5f9-0a3719aea2d3",
   "metadata": {},
   "outputs": [],
   "source": [
    "openai = OpenAI()"
   ]
  },
  {
   "cell_type": "code",
   "execution_count": 3,
   "id": "51d42a08-188e-4c56-9578-47cd549bd1d8",
   "metadata": {},
   "outputs": [],
   "source": [
    "from urllib.parse import urlencode\n",
    "import datetime\n",
    "\n",
    "headers = {\n",
    " \"User-Agent\": \"Mozilla/5.0 (Windows NT 10.0; Win64; x64) AppleWebKit/537.36 (KHTML, like Gecko) Chrome/117.0.0.0 Safari/537.36\"\n",
    "}"
   ]
  },
  {
   "cell_type": "code",
   "execution_count": 4,
   "id": "682eff74-55c4-4d4b-b267-703edbc293c7",
   "metadata": {},
   "outputs": [],
   "source": [
    "class YahooFinanceWebsite:\n",
    "    def __init__(self, stock_symbol):\n",
    "        \"\"\"\n",
    "        Create this Website object from the given url using the BeautifulSoup library\n",
    "        \"\"\"\n",
    "        self.stock_symbol = stock_symbol.upper()\n",
    "\n",
    "    def __build_url(self, params):\n",
    "        base_url = f\"https://finance.yahoo.com/quote/{self.stock_symbol}/history/\"\n",
    "        query_string = urlencode(params)\n",
    "        return f\"{base_url}?{query_string}\"\n",
    "\n",
    "    def get_stock_data(self):\n",
    "        datetime_now = datetime.datetime.now()\n",
    "        datetime_year_ago = datetime_now - datetime.timedelta(days=365)\n",
    "        params = {\"frequency\": \"1wk\", \"period1\": datetime_year_ago.timestamp(), \"period2\": datetime_now.timestamp()}\n",
    "        url = self.__build_url(params)\n",
    "        response = requests.get(url, headers=headers)\n",
    "\n",
    "        soup = BeautifulSoup(response.content, 'html.parser')\n",
    "        \n",
    "        title = soup.title.string if soup.title else \"No title found\"\n",
    "        for irrelevant in soup.body([\"script\", \"style\", \"img\", \"input\"]):\n",
    "            irrelevant.decompose()\n",
    "\n",
    "        html_table_data = soup.find(\"table\")\n",
    "\n",
    "        return title, html_table_data"
   ]
  },
  {
   "cell_type": "code",
   "execution_count": null,
   "id": "70b8d7e7-51e7-4392-9b85-9ac9f67a907c",
   "metadata": {},
   "outputs": [],
   "source": [
    "def build_stock_analysis_prompt(stock_symbol, title, stock_table_data):\n",
    "    sys_prompt = r\"\"\"You are an assistant that analyzes the contents of HTML formated table that contains data on a specific stock.\n",
    "    The HTML table contains the date, open price, close price, low and highs aggregated for every week over one year timeframe.\n",
    "    Ignoring text, tags or html attributes that might be navigation related. \n",
    "    Respond in Markdown format\"\"\"\n",
    "    \n",
    "    user_prompt = f\"The data provided below in the HTML table format for {stock_symbol} from the Yahoo Finances.\\\n",
    "    Make the explaination easy enough for a newbie to understand. \\\n",
    "    Analyze and Summarize the trends on this stock:\\n{stock_table_data}\\n\\n\\\n",
    "    Also, calculate the total returns in percentage one could have expected over this period.\"\n",
    "    \n",
    "    return [\n",
    "        {\"role\": \"system\", \"content\": sys_prompt},\n",
    "        {\"role\": \"user\", \"content\": user_prompt}\n",
    "    ]"
   ]
  },
  {
   "cell_type": "code",
   "execution_count": null,
   "id": "de514421-4cc8-4881-85b4-97f03e94c589",
   "metadata": {},
   "outputs": [],
   "source": [
    "def analyze_stock_trends(stock_symbol):\n",
    "    stock_data_page = YahooFinanceWebsite(stock_symbol)\n",
    "    title, stock_table_data = stock_data_page.get_stock_data()\n",
    "    response = openai.chat.completions.create(\n",
    "        model = \"gpt-4o-mini\",\n",
    "        messages = build_stock_analysis_prompt(stock_symbol, title, stock_table_data)\n",
    "    )\n",
    "    return response.choices[0].message.content\n",
    "\n",
    "def display_analysis(stock_symbol):\n",
    "    display(Markdown(analyze_stock_trends(stock_symbol)))"
   ]
  },
  {
   "cell_type": "code",
   "execution_count": null,
   "id": "41acc36f-484a-4257-a240-cf27520e7396",
   "metadata": {},
   "outputs": [],
   "source": [
    "display_analysis(\"GOOG\")"
   ]
  },
  {
   "cell_type": "code",
   "execution_count": null,
   "id": "7e09541f-bbc4-4cf3-a1ef-9ed5e1b718e4",
   "metadata": {},
   "outputs": [],
   "source": [
    "display_analysis(\"PFE\")"
   ]
  },
  {
   "cell_type": "code",
   "execution_count": null,
   "id": "e6af9395-0c5c-4265-a309-baba786bfa71",
   "metadata": {},
   "outputs": [],
   "source": [
    "display_analysis(\"AAPL\")"
   ]
  },
  {
   "cell_type": "code",
   "execution_count": 5,
   "id": "afe4f6d1-a6ea-44b5-81ae-8e756cfc0d84",
   "metadata": {},
   "outputs": [],
   "source": [
    "stock_data_page = YahooFinanceWebsite(\"GOOG\")\n",
    "title, stock_table_data = stock_data_page.get_stock_data()"
   ]
  },
  {
   "cell_type": "code",
   "execution_count": 27,
   "id": "7ba0c110-7586-4166-ac0d-5609f21e1a13",
   "metadata": {},
   "outputs": [
    {
     "data": {
      "text/html": [
       "<html><table class=\"table yf-j5d1ld noDl\"><thead><tr class=\"yf-j5d1ld\"><th class=\"yf-j5d1ld\">Date  </th><th class=\"yf-j5d1ld\">Open  </th><th class=\"yf-j5d1ld\">High  </th><th class=\"yf-j5d1ld\">Low  </th><th class=\"yf-j5d1ld\">Close   <span class=\"container yf-1cojx7t\"><div class=\"icon fin-icon primary-icn sz-medium tw-align-text-top yf-4e31vg\"><!-- HTML_TAG_START --><svg viewbox=\"0 0 24 24\" xmlns=\"http://www.w3.org/2000/svg\"><path d=\"M11 7h2v2h-2zm0 4h2v6h-2zm1-9C6.48 2 2 6.48 2 12s4.48 10 10 10 10-4.48 10-10S17.52 2 12 2m0 18c-4.41 0-8-3.59-8-8s3.59-8 8-8 8 3.59 8 8-3.59 8-8 8\"></path></svg><!-- HTML_TAG_END --></div> <div class=\"tooltip al-bottom yf-1cojx7t\" role=\"tooltip\"><div class=\"arrow yf-1cojx7t\"></div> <h3 class=\"title yf-1cojx7t\"></h3> <span class=\"toolTipContent yf-j5d1ld\" slot=\"content\">Close price adjusted for splits. </span></div> </span> </th><th class=\"yf-j5d1ld\">Adj Close   <span class=\"container yf-1cojx7t\"><div class=\"icon fin-icon primary-icn sz-medium tw-align-text-top yf-4e31vg\"><!-- HTML_TAG_START --><svg viewbox=\"0 0 24 24\" xmlns=\"http://www.w3.org/2000/svg\"><path d=\"M11 7h2v2h-2zm0 4h2v6h-2zm1-9C6.48 2 2 6.48 2 12s4.48 10 10 10 10-4.48 10-10S17.52 2 12 2m0 18c-4.41 0-8-3.59-8-8s3.59-8 8-8 8 3.59 8 8-3.59 8-8 8\"></path></svg><!-- HTML_TAG_END --></div> <div class=\"tooltip al-bottom yf-1cojx7t\" role=\"tooltip\"><div class=\"arrow yf-1cojx7t\"></div> <h3 class=\"title yf-1cojx7t\"></h3> <span class=\"toolTipContent yf-j5d1ld\" slot=\"content\">Adjusted close price adjusted for splits and dividend and/or capital gain distributions. </span></div> </span> </th><th class=\"yf-j5d1ld\">Volume  </th></tr></thead> <tbody><tr class=\"yf-j5d1ld\"><td class=\"yf-j5d1ld\">Jan 10, 2025</td> <td class=\"yf-j5d1ld\">195.41</td> <td class=\"yf-j5d1ld\">197.62</td> <td class=\"yf-j5d1ld\">191.60</td> <td class=\"yf-j5d1ld\">193.17</td> <td class=\"yf-j5d1ld\">193.17</td> <td class=\"yf-j5d1ld\">18,566,759</td> </tr><tr class=\"yf-j5d1ld\"><td class=\"yf-j5d1ld\">Jan 6, 2025</td> <td class=\"yf-j5d1ld\">195.15</td> <td class=\"yf-j5d1ld\">202.14</td> <td class=\"yf-j5d1ld\">191.60</td> <td class=\"yf-j5d1ld\">193.17</td> <td class=\"yf-j5d1ld\">193.17</td> <td class=\"yf-j5d1ld\">71,525,200</td> </tr><tr class=\"yf-j5d1ld\"><td class=\"yf-j5d1ld\">Dec 30, 2024</td> <td class=\"yf-j5d1ld\">190.87</td> <td class=\"yf-j5d1ld\">194.50</td> <td class=\"yf-j5d1ld\">188.71</td> <td class=\"yf-j5d1ld\">193.13</td> <td class=\"yf-j5d1ld\">193.13</td> <td class=\"yf-j5d1ld\">56,984,900</td> </tr><tr class=\"yf-j5d1ld\"><td class=\"yf-j5d1ld\">Dec 23, 2024</td> <td class=\"yf-j5d1ld\">194.03</td> <td class=\"yf-j5d1ld\">198.16</td> <td class=\"yf-j5d1ld\">191.63</td> <td class=\"yf-j5d1ld\">194.04</td> <td class=\"yf-j5d1ld\">194.04</td> <td class=\"yf-j5d1ld\">44,646,600</td> </tr><tr class=\"yf-j5d1ld\"><td class=\"yf-j5d1ld\">Dec 16, 2024</td> <td class=\"yf-j5d1ld\">194.37</td> <td class=\"yf-j5d1ld\">202.88</td> <td class=\"yf-j5d1ld\">186.37</td> <td class=\"yf-j5d1ld\">192.96</td> <td class=\"yf-j5d1ld\">192.96</td> <td class=\"yf-j5d1ld\">156,317,400</td> </tr><tr class=\"yf-j5d1ld\"><td class=\"yf-j5d1ld\">Dec 9, 2024</td> <td class=\"event yf-j5d1ld\" colspan=\"6\"><span class=\"yf-j5d1ld\">0.20</span> Dividend </td> </tr><tr class=\"yf-j5d1ld\"><td class=\"yf-j5d1ld\">Dec 9, 2024</td> <td class=\"yf-j5d1ld\">175.71</td> <td class=\"yf-j5d1ld\">196.89</td> <td class=\"yf-j5d1ld\">175.40</td> <td class=\"yf-j5d1ld\">191.38</td> <td class=\"yf-j5d1ld\">191.16</td> <td class=\"yf-j5d1ld\">139,950,700</td> </tr><tr class=\"yf-j5d1ld\"><td class=\"yf-j5d1ld\">Dec 2, 2024</td> <td class=\"yf-j5d1ld\">170.32</td> <td class=\"yf-j5d1ld\">177.71</td> <td class=\"yf-j5d1ld\">170.27</td> <td class=\"yf-j5d1ld\">176.49</td> <td class=\"yf-j5d1ld\">176.29</td> <td class=\"yf-j5d1ld\">80,019,700</td> </tr><tr class=\"yf-j5d1ld\"><td class=\"yf-j5d1ld\">Nov 25, 2024</td> <td class=\"yf-j5d1ld\">167.99</td> <td class=\"yf-j5d1ld\">171.49</td> <td class=\"yf-j5d1ld\">167.40</td> <td class=\"yf-j5d1ld\">170.49</td> <td class=\"yf-j5d1ld\">170.30</td> <td class=\"yf-j5d1ld\">58,017,300</td> </tr><tr class=\"yf-j5d1ld\"><td class=\"yf-j5d1ld\">Nov 18, 2024</td> <td class=\"yf-j5d1ld\">174.96</td> <td class=\"yf-j5d1ld\">180.17</td> <td class=\"yf-j5d1ld\">165.31</td> <td class=\"yf-j5d1ld\">166.57</td> <td class=\"yf-j5d1ld\">166.38</td> <td class=\"yf-j5d1ld\">113,184,500</td> </tr><tr class=\"yf-j5d1ld\"><td class=\"yf-j5d1ld\">Nov 11, 2024</td> <td class=\"yf-j5d1ld\">180.07</td> <td class=\"yf-j5d1ld\">184.02</td> <td class=\"yf-j5d1ld\">172.74</td> <td class=\"yf-j5d1ld\">173.89</td> <td class=\"yf-j5d1ld\">173.69</td> <td class=\"yf-j5d1ld\">80,173,600</td> </tr><tr class=\"yf-j5d1ld\"><td class=\"yf-j5d1ld\">Nov 4, 2024</td> <td class=\"yf-j5d1ld\">171.24</td> <td class=\"yf-j5d1ld\">182.58</td> <td class=\"yf-j5d1ld\">169.49</td> <td class=\"yf-j5d1ld\">179.86</td> <td class=\"yf-j5d1ld\">179.66</td> <td class=\"yf-j5d1ld\">87,525,700</td> </tr><tr class=\"yf-j5d1ld\"><td class=\"yf-j5d1ld\">Oct 28, 2024</td> <td class=\"yf-j5d1ld\">170.59</td> <td class=\"yf-j5d1ld\">183.79</td> <td class=\"yf-j5d1ld\">165.79</td> <td class=\"yf-j5d1ld\">172.65</td> <td class=\"yf-j5d1ld\">172.45</td> <td class=\"yf-j5d1ld\">154,027,500</td> </tr><tr class=\"yf-j5d1ld\"><td class=\"yf-j5d1ld\">Oct 21, 2024</td> <td class=\"yf-j5d1ld\">164.58</td> <td class=\"yf-j5d1ld\">167.60</td> <td class=\"yf-j5d1ld\">162.77</td> <td class=\"yf-j5d1ld\">166.99</td> <td class=\"yf-j5d1ld\">166.80</td> <td class=\"yf-j5d1ld\">63,427,700</td> </tr><tr class=\"yf-j5d1ld\"><td class=\"yf-j5d1ld\">Oct 14, 2024</td> <td class=\"yf-j5d1ld\">164.91</td> <td class=\"yf-j5d1ld\">169.09</td> <td class=\"yf-j5d1ld\">164.37</td> <td class=\"yf-j5d1ld\">165.05</td> <td class=\"yf-j5d1ld\">164.86</td> <td class=\"yf-j5d1ld\">62,984,300</td> </tr><tr class=\"yf-j5d1ld\"><td class=\"yf-j5d1ld\">Oct 7, 2024</td> <td class=\"yf-j5d1ld\">169.14</td> <td class=\"yf-j5d1ld\">169.90</td> <td class=\"yf-j5d1ld\">161.12</td> <td class=\"yf-j5d1ld\">164.52</td> <td class=\"yf-j5d1ld\">164.33</td> <td class=\"yf-j5d1ld\">69,271,500</td> </tr><tr class=\"yf-j5d1ld\"><td class=\"yf-j5d1ld\">Sep 30, 2024</td> <td class=\"yf-j5d1ld\">164.78</td> <td class=\"yf-j5d1ld\">170.44</td> <td class=\"yf-j5d1ld\">164.64</td> <td class=\"yf-j5d1ld\">168.56</td> <td class=\"yf-j5d1ld\">168.37</td> <td class=\"yf-j5d1ld\">67,871,000</td> </tr><tr class=\"yf-j5d1ld\"><td class=\"yf-j5d1ld\">Sep 23, 2024</td> <td class=\"yf-j5d1ld\">165.34</td> <td class=\"yf-j5d1ld\">166.97</td> <td class=\"yf-j5d1ld\">162.03</td> <td class=\"yf-j5d1ld\">165.29</td> <td class=\"yf-j5d1ld\">165.10</td> <td class=\"yf-j5d1ld\">79,869,200</td> </tr><tr class=\"yf-j5d1ld\"><td class=\"yf-j5d1ld\">Sep 16, 2024</td> <td class=\"yf-j5d1ld\">158.33</td> <td class=\"yf-j5d1ld\">164.99</td> <td class=\"yf-j5d1ld\">157.61</td> <td class=\"yf-j5d1ld\">164.64</td> <td class=\"yf-j5d1ld\">164.45</td> <td class=\"yf-j5d1ld\">106,889,800</td> </tr><tr class=\"yf-j5d1ld\"><td class=\"yf-j5d1ld\">Sep 9, 2024</td> <td class=\"event yf-j5d1ld\" colspan=\"6\"><span class=\"yf-j5d1ld\">0.20</span> Dividend </td> </tr><tr class=\"yf-j5d1ld\"><td class=\"yf-j5d1ld\">Sep 9, 2024</td> <td class=\"yf-j5d1ld\">153.63</td> <td class=\"yf-j5d1ld\">159.27</td> <td class=\"yf-j5d1ld\">148.20</td> <td class=\"yf-j5d1ld\">158.37</td> <td class=\"yf-j5d1ld\">157.98</td> <td class=\"yf-j5d1ld\">105,209,000</td> </tr><tr class=\"yf-j5d1ld\"><td class=\"yf-j5d1ld\">Sep 2, 2024</td> <td class=\"yf-j5d1ld\">163.32</td> <td class=\"yf-j5d1ld\">163.38</td> <td class=\"yf-j5d1ld\">151.93</td> <td class=\"yf-j5d1ld\">152.13</td> <td class=\"yf-j5d1ld\">151.76</td> <td class=\"yf-j5d1ld\">83,082,400</td> </tr><tr class=\"yf-j5d1ld\"><td class=\"yf-j5d1ld\">Aug 26, 2024</td> <td class=\"yf-j5d1ld\">168.15</td> <td class=\"yf-j5d1ld\">169.38</td> <td class=\"yf-j5d1ld\">161.98</td> <td class=\"yf-j5d1ld\">165.11</td> <td class=\"yf-j5d1ld\">164.71</td> <td class=\"yf-j5d1ld\">76,549,800</td> </tr><tr class=\"yf-j5d1ld\"><td class=\"yf-j5d1ld\">Aug 19, 2024</td> <td class=\"yf-j5d1ld\">167.00</td> <td class=\"yf-j5d1ld\">170.41</td> <td class=\"yf-j5d1ld\">165.03</td> <td class=\"yf-j5d1ld\">167.43</td> <td class=\"yf-j5d1ld\">167.02</td> <td class=\"yf-j5d1ld\">74,398,300</td> </tr><tr class=\"yf-j5d1ld\"><td class=\"yf-j5d1ld\">Aug 12, 2024</td> <td class=\"yf-j5d1ld\">165.99</td> <td class=\"yf-j5d1ld\">166.95</td> <td class=\"yf-j5d1ld\">159.53</td> <td class=\"yf-j5d1ld\">164.74</td> <td class=\"yf-j5d1ld\">164.34</td> <td class=\"yf-j5d1ld\">82,914,100</td> </tr><tr class=\"yf-j5d1ld\"><td class=\"yf-j5d1ld\">Aug 5, 2024</td> <td class=\"yf-j5d1ld\">157.37</td> <td class=\"yf-j5d1ld\">165.94</td> <td class=\"yf-j5d1ld\">156.60</td> <td class=\"yf-j5d1ld\">165.39</td> <td class=\"yf-j5d1ld\">164.99</td> <td class=\"yf-j5d1ld\">119,671,300</td> </tr><tr class=\"yf-j5d1ld\"><td class=\"yf-j5d1ld\">Jul 29, 2024</td> <td class=\"yf-j5d1ld\">170.50</td> <td class=\"yf-j5d1ld\">175.91</td> <td class=\"yf-j5d1ld\">166.39</td> <td class=\"yf-j5d1ld\">168.40</td> <td class=\"yf-j5d1ld\">167.99</td> <td class=\"yf-j5d1ld\">79,186,100</td> </tr><tr class=\"yf-j5d1ld\"><td class=\"yf-j5d1ld\">Jul 22, 2024</td> <td class=\"yf-j5d1ld\">182.35</td> <td class=\"yf-j5d1ld\">185.22</td> <td class=\"yf-j5d1ld\">165.87</td> <td class=\"yf-j5d1ld\">168.68</td> <td class=\"yf-j5d1ld\">168.27</td> <td class=\"yf-j5d1ld\">125,445,200</td> </tr><tr class=\"yf-j5d1ld\"><td class=\"yf-j5d1ld\">Jul 15, 2024</td> <td class=\"yf-j5d1ld\">186.49</td> <td class=\"yf-j5d1ld\">190.34</td> <td class=\"yf-j5d1ld\">178.21</td> <td class=\"yf-j5d1ld\">179.39</td> <td class=\"yf-j5d1ld\">178.95</td> <td class=\"yf-j5d1ld\">74,685,800</td> </tr><tr class=\"yf-j5d1ld\"><td class=\"yf-j5d1ld\">Jul 8, 2024</td> <td class=\"yf-j5d1ld\">191.37</td> <td class=\"yf-j5d1ld\">193.31</td> <td class=\"yf-j5d1ld\">186.14</td> <td class=\"yf-j5d1ld\">186.78</td> <td class=\"yf-j5d1ld\">186.32</td> <td class=\"yf-j5d1ld\">65,250,100</td> </tr><tr class=\"yf-j5d1ld\"><td class=\"yf-j5d1ld\">Jul 1, 2024</td> <td class=\"yf-j5d1ld\">184.48</td> <td class=\"yf-j5d1ld\">192.26</td> <td class=\"yf-j5d1ld\">182.73</td> <td class=\"yf-j5d1ld\">191.96</td> <td class=\"yf-j5d1ld\">191.49</td> <td class=\"yf-j5d1ld\">46,083,900</td> </tr><tr class=\"yf-j5d1ld\"><td class=\"yf-j5d1ld\">Jun 24, 2024</td> <td class=\"yf-j5d1ld\">181.28</td> <td class=\"yf-j5d1ld\">187.50</td> <td class=\"yf-j5d1ld\">180.23</td> <td class=\"yf-j5d1ld\">183.42</td> <td class=\"yf-j5d1ld\">182.97</td> <td class=\"yf-j5d1ld\">86,549,800</td> </tr><tr class=\"yf-j5d1ld\"><td class=\"yf-j5d1ld\">Jun 17, 2024</td> <td class=\"yf-j5d1ld\">176.98</td> <td class=\"yf-j5d1ld\">182.51</td> <td class=\"yf-j5d1ld\">175.62</td> <td class=\"yf-j5d1ld\">180.26</td> <td class=\"yf-j5d1ld\">179.82</td> <td class=\"yf-j5d1ld\">107,394,400</td> </tr><tr class=\"yf-j5d1ld\"><td class=\"yf-j5d1ld\">Jun 10, 2024</td> <td class=\"event yf-j5d1ld\" colspan=\"6\"><span class=\"yf-j5d1ld\">0.20</span> Dividend </td> </tr><tr class=\"yf-j5d1ld\"><td class=\"yf-j5d1ld\">Jun 10, 2024</td> <td class=\"yf-j5d1ld\">176.45</td> <td class=\"yf-j5d1ld\">182.08</td> <td class=\"yf-j5d1ld\">174.38</td> <td class=\"yf-j5d1ld\">178.37</td> <td class=\"yf-j5d1ld\">177.73</td> <td class=\"yf-j5d1ld\">78,443,500</td> </tr><tr class=\"yf-j5d1ld\"><td class=\"yf-j5d1ld\">Jun 3, 2024</td> <td class=\"yf-j5d1ld\">173.88</td> <td class=\"yf-j5d1ld\">179.42</td> <td class=\"yf-j5d1ld\">172.45</td> <td class=\"yf-j5d1ld\">175.95</td> <td class=\"yf-j5d1ld\">175.32</td> <td class=\"yf-j5d1ld\">79,015,400</td> </tr><tr class=\"yf-j5d1ld\"><td class=\"yf-j5d1ld\">May 27, 2024</td> <td class=\"yf-j5d1ld\">175.74</td> <td class=\"yf-j5d1ld\">178.51</td> <td class=\"yf-j5d1ld\">170.97</td> <td class=\"yf-j5d1ld\">173.96</td> <td class=\"yf-j5d1ld\">173.34</td> <td class=\"yf-j5d1ld\">77,608,300</td> </tr><tr class=\"yf-j5d1ld\"><td class=\"yf-j5d1ld\">May 20, 2024</td> <td class=\"yf-j5d1ld\">177.31</td> <td class=\"yf-j5d1ld\">179.95</td> <td class=\"yf-j5d1ld\">174.54</td> <td class=\"yf-j5d1ld\">176.33</td> <td class=\"yf-j5d1ld\">175.70</td> <td class=\"yf-j5d1ld\">74,719,500</td> </tr><tr class=\"yf-j5d1ld\"><td class=\"yf-j5d1ld\">May 13, 2024</td> <td class=\"yf-j5d1ld\">165.85</td> <td class=\"yf-j5d1ld\">177.49</td> <td class=\"yf-j5d1ld\">165.76</td> <td class=\"yf-j5d1ld\">177.29</td> <td class=\"yf-j5d1ld\">176.66</td> <td class=\"yf-j5d1ld\">93,130,000</td> </tr><tr class=\"yf-j5d1ld\"><td class=\"yf-j5d1ld\">May 6, 2024</td> <td class=\"yf-j5d1ld\">169.22</td> <td class=\"yf-j5d1ld\">173.47</td> <td class=\"yf-j5d1ld\">167.89</td> <td class=\"yf-j5d1ld\">170.29</td> <td class=\"yf-j5d1ld\">169.68</td> <td class=\"yf-j5d1ld\">81,498,400</td> </tr><tr class=\"yf-j5d1ld\"><td class=\"yf-j5d1ld\">Apr 29, 2024</td> <td class=\"yf-j5d1ld\">170.77</td> <td class=\"yf-j5d1ld\">171.38</td> <td class=\"yf-j5d1ld\">164.50</td> <td class=\"yf-j5d1ld\">168.99</td> <td class=\"yf-j5d1ld\">168.38</td> <td class=\"yf-j5d1ld\">130,366,800</td> </tr><tr class=\"yf-j5d1ld\"><td class=\"yf-j5d1ld\">Apr 22, 2024</td> <td class=\"yf-j5d1ld\">156.01</td> <td class=\"yf-j5d1ld\">176.42</td> <td class=\"yf-j5d1ld\">152.77</td> <td class=\"yf-j5d1ld\">173.69</td> <td class=\"yf-j5d1ld\">173.07</td> <td class=\"yf-j5d1ld\">145,543,600</td> </tr><tr class=\"yf-j5d1ld\"><td class=\"yf-j5d1ld\">Apr 15, 2024</td> <td class=\"yf-j5d1ld\">160.28</td> <td class=\"yf-j5d1ld\">160.83</td> <td class=\"yf-j5d1ld\">153.91</td> <td class=\"yf-j5d1ld\">155.72</td> <td class=\"yf-j5d1ld\">155.16</td> <td class=\"yf-j5d1ld\">86,871,900</td> </tr><tr class=\"yf-j5d1ld\"><td class=\"yf-j5d1ld\">Apr 8, 2024</td> <td class=\"yf-j5d1ld\">154.01</td> <td class=\"yf-j5d1ld\">161.70</td> <td class=\"yf-j5d1ld\">153.99</td> <td class=\"yf-j5d1ld\">159.19</td> <td class=\"yf-j5d1ld\">158.62</td> <td class=\"yf-j5d1ld\">89,328,700</td> </tr><tr class=\"yf-j5d1ld\"><td class=\"yf-j5d1ld\">Apr 1, 2024</td> <td class=\"yf-j5d1ld\">151.83</td> <td class=\"yf-j5d1ld\">157.00</td> <td class=\"yf-j5d1ld\">151.08</td> <td class=\"yf-j5d1ld\">153.94</td> <td class=\"yf-j5d1ld\">153.39</td> <td class=\"yf-j5d1ld\">99,808,700</td> </tr><tr class=\"yf-j5d1ld\"><td class=\"yf-j5d1ld\">Mar 25, 2024</td> <td class=\"yf-j5d1ld\">150.95</td> <td class=\"yf-j5d1ld\">153.20</td> <td class=\"yf-j5d1ld\">148.80</td> <td class=\"yf-j5d1ld\">152.26</td> <td class=\"yf-j5d1ld\">151.71</td> <td class=\"yf-j5d1ld\">72,155,000</td> </tr><tr class=\"yf-j5d1ld\"><td class=\"yf-j5d1ld\">Mar 18, 2024</td> <td class=\"yf-j5d1ld\">149.37</td> <td class=\"yf-j5d1ld\">152.93</td> <td class=\"yf-j5d1ld\">147.01</td> <td class=\"yf-j5d1ld\">151.77</td> <td class=\"yf-j5d1ld\">151.23</td> <td class=\"yf-j5d1ld\">122,225,300</td> </tr><tr class=\"yf-j5d1ld\"><td class=\"yf-j5d1ld\">Mar 11, 2024</td> <td class=\"yf-j5d1ld\">137.07</td> <td class=\"yf-j5d1ld\">144.73</td> <td class=\"yf-j5d1ld\">137.07</td> <td class=\"yf-j5d1ld\">142.17</td> <td class=\"yf-j5d1ld\">141.66</td> <td class=\"yf-j5d1ld\">138,336,900</td> </tr><tr class=\"yf-j5d1ld\"><td class=\"yf-j5d1ld\">Mar 4, 2024</td> <td class=\"yf-j5d1ld\">136.54</td> <td class=\"yf-j5d1ld\">138.99</td> <td class=\"yf-j5d1ld\">131.55</td> <td class=\"yf-j5d1ld\">136.29</td> <td class=\"yf-j5d1ld\">135.80</td> <td class=\"yf-j5d1ld\">145,774,000</td> </tr><tr class=\"yf-j5d1ld\"><td class=\"yf-j5d1ld\">Feb 26, 2024</td> <td class=\"yf-j5d1ld\">143.45</td> <td class=\"yf-j5d1ld\">143.84</td> <td class=\"yf-j5d1ld\">136.64</td> <td class=\"yf-j5d1ld\">138.08</td> <td class=\"yf-j5d1ld\">137.59</td> <td class=\"yf-j5d1ld\">150,512,700</td> </tr><tr class=\"yf-j5d1ld\"><td class=\"yf-j5d1ld\">Feb 19, 2024</td> <td class=\"yf-j5d1ld\">140.94</td> <td class=\"yf-j5d1ld\">146.20</td> <td class=\"yf-j5d1ld\">140.80</td> <td class=\"yf-j5d1ld\">145.29</td> <td class=\"yf-j5d1ld\">144.77</td> <td class=\"yf-j5d1ld\">72,669,300</td> </tr><tr class=\"yf-j5d1ld\"><td class=\"yf-j5d1ld\">Feb 12, 2024</td> <td class=\"yf-j5d1ld\">149.54</td> <td class=\"yf-j5d1ld\">150.59</td> <td class=\"yf-j5d1ld\">141.52</td> <td class=\"yf-j5d1ld\">141.76</td> <td class=\"yf-j5d1ld\">141.25</td> <td class=\"yf-j5d1ld\">100,600,400</td> </tr><tr class=\"yf-j5d1ld\"><td class=\"yf-j5d1ld\">Feb 5, 2024</td> <td class=\"yf-j5d1ld\">144.04</td> <td class=\"yf-j5d1ld\">150.70</td> <td class=\"yf-j5d1ld\">143.91</td> <td class=\"yf-j5d1ld\">150.22</td> <td class=\"yf-j5d1ld\">149.68</td> <td class=\"yf-j5d1ld\">112,327,200</td> </tr><tr class=\"yf-j5d1ld\"><td class=\"yf-j5d1ld\">Jan 29, 2024</td> <td class=\"yf-j5d1ld\">153.64</td> <td class=\"yf-j5d1ld\">155.20</td> <td class=\"yf-j5d1ld\">138.17</td> <td class=\"yf-j5d1ld\">143.54</td> <td class=\"yf-j5d1ld\">143.03</td> <td class=\"yf-j5d1ld\">159,040,600</td> </tr><tr class=\"yf-j5d1ld\"><td class=\"yf-j5d1ld\">Jan 22, 2024</td> <td class=\"yf-j5d1ld\">148.71</td> <td class=\"yf-j5d1ld\">154.76</td> <td class=\"yf-j5d1ld\">147.19</td> <td class=\"yf-j5d1ld\">153.79</td> <td class=\"yf-j5d1ld\">153.24</td> <td class=\"yf-j5d1ld\">96,177,400</td> </tr><tr class=\"yf-j5d1ld\"><td class=\"yf-j5d1ld\">Jan 15, 2024</td> <td class=\"yf-j5d1ld\">143.43</td> <td class=\"yf-j5d1ld\">148.04</td> <td class=\"yf-j5d1ld\">140.51</td> <td class=\"yf-j5d1ld\">147.97</td> <td class=\"yf-j5d1ld\">147.44</td> <td class=\"yf-j5d1ld\">83,131,100</td> </tr><tr class=\"yf-j5d1ld\"><td class=\"yf-j5d1ld\">Jan 8, 2024</td> <td class=\"yf-j5d1ld\">144.34</td> <td class=\"yf-j5d1ld\">144.74</td> <td class=\"yf-j5d1ld\">143.36</td> <td class=\"yf-j5d1ld\">144.24</td> <td class=\"yf-j5d1ld\">143.72</td> <td class=\"yf-j5d1ld\">13,995,200</td> </tr></tbody></table></html>"
      ],
      "text/plain": [
       "<IPython.core.display.HTML object>"
      ]
     },
     "execution_count": 27,
     "metadata": {},
     "output_type": "execute_result"
    }
   ],
   "source": [
    "HTML('<html>' + str(stock_table_data) + '</html>')"
   ]
  },
  {
   "cell_type": "code",
   "execution_count": null,
   "id": "1c055629-0e4b-44d2-a95a-0e55503d92f9",
   "metadata": {},
   "outputs": [],
   "source": []
  }
 ],
 "metadata": {
  "kernelspec": {
   "display_name": "Python 3 (ipykernel)",
   "language": "python",
   "name": "python3"
  },
  "language_info": {
   "codemirror_mode": {
    "name": "ipython",
    "version": 3
   },
   "file_extension": ".py",
   "mimetype": "text/x-python",
   "name": "python",
   "nbconvert_exporter": "python",
   "pygments_lexer": "ipython3",
   "version": "3.11.11"
  }
 },
 "nbformat": 4,
 "nbformat_minor": 5
}
