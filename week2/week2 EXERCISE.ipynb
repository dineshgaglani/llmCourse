{
 "cells": [
  {
   "cell_type": "markdown",
   "id": "d006b2ea-9dfe-49c7-88a9-a5a0775185fd",
   "metadata": {},
   "source": [
    "# Additional End of week Exercise - week 2\n",
    "\n",
    "Now use everything you've learned from Week 2 to build a full prototype for the technical question/answerer you built in Week 1 Exercise.\n",
    "\n",
    "This should include a Gradio UI, streaming, use of the system prompt to add expertise, and the ability to switch between models. Bonus points if you can demonstrate use of a tool!\n",
    "\n",
    "If you feel bold, see if you can add audio input so you can talk to it, and have it respond with audio. ChatGPT or Claude can help you, or email me if you have questions.\n",
    "\n",
    "I will publish a full solution here soon - unless someone beats me to it...\n",
    "\n",
    "There are so many commercial applications for this, from a language tutor, to a company onboarding solution, to a companion AI to a course (like this one!) I can't wait to see your results."
   ]
  },
  {
   "cell_type": "raw",
   "id": "0c4aaa65-5771-4e2a-be66-e88d04260119",
   "metadata": {},
   "source": [
    "THE ISSUE WITH THE TOOLS CALLS IS THAT IF ONE CALLS RESULT NEEDS TO BE PASSED TO ANOTHER TO GET FULL RESPONSE, CHAT GPT DOESN'T RECOGNIZE IT -\n",
    "\n",
    "THIS EXPECTATION IS NOT FULFILLED -\n",
    "\n",
    "user: query to chat gpt\n",
    "chat gpt: tool call for function 1\n",
    "tool: function 1 result\n",
    "chat gpt: tool call for function 2 with result from a previous tool call\n",
    "tool: function 2 result\n",
    "chat gpt: user query response with function 2 result\n",
    "\n",
    "Instead it stops at the first result and sends the message\n",
    "\n",
    "Also, tool calls don't carry context, example if information needed for the second call is provided when the first call was made (In the query of the first call not in the result of the first call invocation), then that information is not passed to the second one, the information is asked again from the user."
   ]
  },
  {
   "cell_type": "code",
   "execution_count": null,
   "id": "a07e7793-b8f5-44f4-aded-5562f633271a",
   "metadata": {},
   "outputs": [],
   "source": [
    "# E-commerce customer service chatbot\n",
    "# Has 4 tools\n",
    "# 1. Gets the order id given a user-name and item name\n",
    "# 2. Gets the item status given an order id\n",
    "# 3. If the order delivery date for orders that are in In Transit"
   ]
  },
  {
   "cell_type": "code",
   "execution_count": 53,
   "id": "a693e63d-4d24-4e09-be94-228a0c36f36e",
   "metadata": {},
   "outputs": [],
   "source": [
    "# imports\n",
    "\n",
    "import os\n",
    "import requests\n",
    "from bs4 import BeautifulSoup\n",
    "from typing import List\n",
    "from dotenv import load_dotenv\n",
    "from openai import OpenAI\n",
    "import google.generativeai\n",
    "import anthropic\n",
    "import gradio as gr\n",
    "import json"
   ]
  },
  {
   "cell_type": "code",
   "execution_count": 42,
   "id": "cbb9d55c-23d8-46c9-80b0-22fcba098296",
   "metadata": {},
   "outputs": [
    {
     "name": "stdout",
     "output_type": "stream",
     "text": [
      "OpenAI API Key exists and begins sk-proj-\n",
      "Anthropic API Key exists and begins sk-ant-\n",
      "Google API Key not set\n"
     ]
    }
   ],
   "source": [
    "# Load environment variables in a file called .env\n",
    "# Print the key prefixes to help with any debugging\n",
    "\n",
    "load_dotenv()\n",
    "openai_api_key = os.getenv('OPENAI_API_KEY')\n",
    "anthropic_api_key = os.getenv('ANTHROPIC_API_KEY')\n",
    "google_api_key = os.getenv('GOOGLE_API_KEY')\n",
    "\n",
    "if openai_api_key:\n",
    "    print(f\"OpenAI API Key exists and begins {openai_api_key[:8]}\")\n",
    "else:\n",
    "    print(\"OpenAI API Key not set\")\n",
    "    \n",
    "if anthropic_api_key:\n",
    "    print(f\"Anthropic API Key exists and begins {anthropic_api_key[:7]}\")\n",
    "else:\n",
    "    print(\"Anthropic API Key not set\")\n",
    "\n",
    "if google_api_key:\n",
    "    print(f\"Google API Key exists and begins {google_api_key[:8]}\")\n",
    "else:\n",
    "    print(\"Google API Key not set\")"
   ]
  },
  {
   "cell_type": "code",
   "execution_count": 4,
   "id": "ccd6df73-241f-4104-bc47-85086d79bfd7",
   "metadata": {},
   "outputs": [],
   "source": [
    "# Connect to OpenAI, Anthropic and Google; comment out the Claude or Google lines if you're not using them\n",
    "\n",
    "openai = OpenAI()\n",
    "\n",
    "claude = anthropic.Anthropic()"
   ]
  },
  {
   "cell_type": "code",
   "execution_count": 107,
   "id": "d1923580-eb59-4c78-aacf-e2e90fb01a6b",
   "metadata": {},
   "outputs": [],
   "source": [
    "# A generic system message - no more snarky adversarial AIs!\n",
    "\n",
    "system_message = \"\"\"You are a helpful customer support executive working in a e-commerce store, \n",
    "you are responsible to resolve user queries related to users receiving their orders. \n",
    "When a tool response has 'partial_result', determine if another tool call is necessary.\n",
    "If another tool call is needed, make the call IMMEDIATELY without waiting for user input.\n",
    "Only respond to the user when all required tool calls are completed.\"\"\""
   ]
  },
  {
   "cell_type": "code",
   "execution_count": 96,
   "id": "54687260-19f0-483f-ad15-b313a710b7f4",
   "metadata": {},
   "outputs": [],
   "source": [
    "# 1. Gets the order id given a user-name and item name\n",
    "\n",
    "nameToOrderIdMap = {\"karishma\": { \"January 30, 2024\": \"order1\", \"January 25, 2024\": \"order2\" }, \"dinesh\": { \"January 20, 2024\": \"order2\"} }\n",
    "\n",
    "def get_order_for(user_name, order_date):\n",
    "    print(f\"Tool get_order_for called for user: {user_name}, date: {order_date}\")\n",
    "    user_name_lower = user_name.lower()\n",
    "    user_orders = nameToOrderIdMap.get(user_name_lower)\n",
    "    if user_orders:\n",
    "        return user_orders.get(order_date)"
   ]
  },
  {
   "cell_type": "code",
   "execution_count": 97,
   "id": "a4aa7461-8086-4fa3-8aa8-cffcd7dca72a",
   "metadata": {},
   "outputs": [
    {
     "name": "stdout",
     "output_type": "stream",
     "text": [
      "Tool get_order_for called for user: karishma, date: January 25, 2024\n",
      "order2\n",
      "Tool get_order_for called for user: karishma, date: January 26, 2024\n",
      "None\n",
      "Tool get_order_for called for user: dishu, date: January 26, 2024\n",
      "None\n"
     ]
    }
   ],
   "source": [
    "print(get_order_for(\"karishma\", \"January 25, 2024\"))\n",
    "print(get_order_for(\"karishma\", \"January 26, 2024\"))\n",
    "print(get_order_for(\"dishu\", \"January 26, 2024\"))"
   ]
  },
  {
   "cell_type": "code",
   "execution_count": 98,
   "id": "f60bbd4d-54bd-4216-bf2a-81233d47b556",
   "metadata": {},
   "outputs": [],
   "source": [
    "# 2. Gets the item status given an order id\n",
    "orderIdToStatusMap = {\"order1\": \"In Transit\" , \"order2\": \"Delivered on February 28, 2024\", \"order3\": \"Ready to ship\" }\n",
    "\n",
    "def get_order_status(order_id):\n",
    "    print(f\"Tool get_order_status called for orderId: {order_id}\")\n",
    "    order_id_lower = order_id.lower()\n",
    "    return orderIdToStatusMap.get(order_id_lower, \"Unknown\")"
   ]
  },
  {
   "cell_type": "code",
   "execution_count": 99,
   "id": "dcb862d4-60dc-4220-93bc-ad0490061d9f",
   "metadata": {},
   "outputs": [
    {
     "name": "stdout",
     "output_type": "stream",
     "text": [
      "Tool get_order_status called for orderId: order1\n",
      "In Transit\n",
      "Tool get_order_status called for orderId: order5\n",
      "Unknown\n"
     ]
    }
   ],
   "source": [
    "print(get_order_status(\"order1\"))\n",
    "print(get_order_status(\"order5\"))"
   ]
  },
  {
   "cell_type": "code",
   "execution_count": 100,
   "id": "b3a036db-b06c-4070-831c-aadbf199750e",
   "metadata": {},
   "outputs": [],
   "source": [
    "# 3. If the order delivery date for orders that are in In Transit\n",
    "orderIdToDeliveryDateMap = {\"order1\": \"February 16, 2024\" }\n",
    "\n",
    "def get_order_delivery_date(order_id):\n",
    "    print(f\"Tool get_order_delivery_date called for orderId: {order_id}\")\n",
    "    order_id_lower = order_id.lower()\n",
    "    return orderIdToDeliveryDateMap.get(order_id_lower, \"Unknown\")"
   ]
  },
  {
   "cell_type": "code",
   "execution_count": 101,
   "id": "747cfb0c-502d-492d-9eb7-3522502e8e7a",
   "metadata": {},
   "outputs": [
    {
     "name": "stdout",
     "output_type": "stream",
     "text": [
      "Tool get_order_delivery_date called for orderId: order1\n",
      "February 16, 2024\n"
     ]
    }
   ],
   "source": [
    "print(get_order_delivery_date(\"order1\"))"
   ]
  },
  {
   "cell_type": "code",
   "execution_count": 102,
   "id": "66f2259b-96c2-4a81-b4d8-f48b6111b464",
   "metadata": {},
   "outputs": [],
   "source": [
    "# There's a particular dictionary structure that's required to describe our function:\n",
    "\n",
    "get_order_id_fn = {\n",
    "    \"name\": \"get_order_for\",\n",
    "    \"description\": \"Gets the orderId given a username and order date . Call this whenever you need to know the order id for a customer given their order date, for example when a customer asks 'Hi I am Karishma, I placed an order on 21 January 2024, please provide my orderId '\",\n",
    "    \"parameters\": {\n",
    "        \"type\": \"object\",\n",
    "        \"properties\": {\n",
    "            \"user_name\": {\n",
    "                \"type\": \"string\",\n",
    "                \"description\": \"The name of the customer\",\n",
    "            },\n",
    "            \"order_date\": {\n",
    "                \"type\": \"string\",\n",
    "                \"description\": \"The date the order was placed in month dd, yyyy format\"\n",
    "            }\n",
    "        },\n",
    "        \"required\": [\"user_name\", \"order_date\"],\n",
    "        \"additionalProperties\": False\n",
    "    }\n",
    "}\n",
    "\n",
    "get_order_status_fn = {\n",
    "    \"name\": \"get_order_status\",\n",
    "    \"description\": \"Gets the item status given an order id. Call this whenever you need to know the status of a user's order 'Please provide the status for my order with orderId orderxz'\",\n",
    "    \"parameters\": {\n",
    "        \"type\": \"object\",\n",
    "        \"properties\": {\n",
    "            \"order_id\": {\n",
    "                \"type\": \"string\",\n",
    "                \"description\": \"The order id the status is needed for\",\n",
    "            },\n",
    "        },\n",
    "        \"required\": [\"order_id\"],\n",
    "        \"additionalProperties\": False\n",
    "    }\n",
    "}\n",
    "\n",
    "# There's a particular dictionary structure that's required to describe our function:\n",
    "\n",
    "get_order_delivery_date_fn = {\n",
    "    \"name\": \"get_order_delivery_date\",\n",
    "    \"description\": \"Gets the delivery date of an 'In Transit' order given the orderId. Call this whenever you need to know the delivery date for an order currently in transit, for example when a customer asks 'When will my order with orderId xyz arrive'\",\n",
    "    \"parameters\": {\n",
    "        \"type\": \"object\",\n",
    "        \"properties\": {\n",
    "            \"order_id\": {\n",
    "                \"type\": \"string\",\n",
    "                \"description\": \"The order id the delivery date is needed for\",\n",
    "            },\n",
    "        },\n",
    "        \"required\": [\"order_id\"],\n",
    "        \"additionalProperties\": False\n",
    "    }\n",
    "}"
   ]
  },
  {
   "cell_type": "code",
   "execution_count": 103,
   "id": "06a5d8ce-6749-4bd7-9ac1-4768e738c25f",
   "metadata": {},
   "outputs": [],
   "source": [
    "# And this is included in a list of tools:\n",
    "\n",
    "tools = [{\"type\": \"function\", \"function\": get_order_id_fn}, {\"type\": \"function\", \"function\": get_order_status_fn}, {\"type\": \"function\", \"function\": get_order_delivery_date_fn}]"
   ]
  },
  {
   "cell_type": "code",
   "execution_count": 37,
   "id": "421b7d7e-d8aa-4170-83fa-398f321b8bdd",
   "metadata": {},
   "outputs": [],
   "source": [
    "# Let's wrap a call to GPT-4o-mini in a simple function\n",
    "\n",
    "def message_gpt(prompt):\n",
    "    messages = [\n",
    "        {\"role\": \"system\", \"content\": system_message},\n",
    "        {\"role\": \"user\", \"content\": prompt}\n",
    "      ]\n",
    "    completion = openai.chat.completions.create(\n",
    "        model='gpt-4o-mini',\n",
    "        messages=messages,\n",
    "        tools=tools\n",
    "    )\n",
    "    print(f\"completion: {completion}\")\n",
    "    return completion.choices[0].message.content"
   ]
  },
  {
   "cell_type": "code",
   "execution_count": 33,
   "id": "1dc8cb56-2a4e-482b-8c5d-c4a197a4cc9e",
   "metadata": {},
   "outputs": [
    {
     "name": "stdout",
     "output_type": "stream",
     "text": [
      "completion: ChatCompletion(id='chatcmpl-Avdu3A0x2vWZhvpBscK0NRqh4XnQc', choices=[Choice(finish_reason='tool_calls', index=0, logprobs=None, message=ChatCompletionMessage(content=None, refusal=None, role='assistant', audio=None, function_call=None, tool_calls=[ChatCompletionMessageToolCall(id='call_w7DbAYESSD60en5yxyv30wom', function=Function(arguments='{\"order_id\":\"order1\"}', name='get_order_status'), type='function')]))], created=1738301447, model='gpt-4o-mini-2024-07-18', object='chat.completion', service_tier='default', system_fingerprint='fp_72ed7ab54c', usage=CompletionUsage(completion_tokens=18, prompt_tokens=307, total_tokens=325, completion_tokens_details=CompletionTokensDetails(accepted_prediction_tokens=0, audio_tokens=0, reasoning_tokens=0, rejected_prediction_tokens=0), prompt_tokens_details=PromptTokensDetails(audio_tokens=0, cached_tokens=0)))\n",
      "None\n"
     ]
    }
   ],
   "source": [
    "print(message_gpt(\"I would like to enquire about my order with orderId: order1\"))"
   ]
  },
  {
   "cell_type": "code",
   "execution_count": 38,
   "id": "31adc184-343e-47f7-be73-c7719cf4caf8",
   "metadata": {},
   "outputs": [
    {
     "name": "stdout",
     "output_type": "stream",
     "text": [
      "completion: ChatCompletion(id='chatcmpl-AvdwmMOWh37PKBn4dei9MYFBSgmOc', choices=[Choice(finish_reason='tool_calls', index=0, logprobs=None, message=ChatCompletionMessage(content=None, refusal=None, role='assistant', audio=None, function_call=None, tool_calls=[ChatCompletionMessageToolCall(id='call_gpiNVQtkLT4LJyFlcjVcfAu0', function=Function(arguments='{\"user_name\":\"Dinesh\",\"order_date\":\"January 14, 2025\"}', name='get_order_for'), type='function')]))], created=1738301616, model='gpt-4o-mini-2024-07-18', object='chat.completion', service_tier='default', system_fingerprint='fp_72ed7ab54c', usage=CompletionUsage(completion_tokens=30, prompt_tokens=320, total_tokens=350, completion_tokens_details=CompletionTokensDetails(accepted_prediction_tokens=0, audio_tokens=0, reasoning_tokens=0, rejected_prediction_tokens=0), prompt_tokens_details=PromptTokensDetails(audio_tokens=0, cached_tokens=0)))\n",
      "None\n"
     ]
    }
   ],
   "source": [
    "print(message_gpt(\"My name is Dinesh, I placed an order on January 14, 2025, can you please provide my order status\"))"
   ]
  },
  {
   "cell_type": "code",
   "execution_count": 39,
   "id": "5f2350a9-fdaf-493f-a3c2-f7f936ec5945",
   "metadata": {},
   "outputs": [
    {
     "name": "stdout",
     "output_type": "stream",
     "text": [
      "completion: ChatCompletion(id='chatcmpl-AvdxpnMxrXvQBEi2nwPlPfjeq2zHj', choices=[Choice(finish_reason='stop', index=0, logprobs=None, message=ChatCompletionMessage(content='Could you please provide me with the date when you placed your order for the toaster?', refusal=None, role='assistant', audio=None, function_call=None, tool_calls=None))], created=1738301681, model='gpt-4o-mini-2024-07-18', object='chat.completion', service_tier='default', system_fingerprint='fp_72ed7ab54c', usage=CompletionUsage(completion_tokens=19, prompt_tokens=313, total_tokens=332, completion_tokens_details=CompletionTokensDetails(accepted_prediction_tokens=0, audio_tokens=0, reasoning_tokens=0, rejected_prediction_tokens=0), prompt_tokens_details=PromptTokensDetails(audio_tokens=0, cached_tokens=0)))\n",
      "Could you please provide me with the date when you placed your order for the toaster?\n"
     ]
    }
   ],
   "source": [
    "print(message_gpt(\"My name is Dinesh. I had ordered a toaster, can you please provide my order status\"))"
   ]
  },
  {
   "cell_type": "code",
   "execution_count": 40,
   "id": "c70f500c-3da9-4f9f-bd06-7054d6e9e1ab",
   "metadata": {},
   "outputs": [
    {
     "name": "stdout",
     "output_type": "stream",
     "text": [
      "completion: ChatCompletion(id='chatcmpl-AvdztyBxcJMzFndlAWvDixvkvyq7H', choices=[Choice(finish_reason='tool_calls', index=0, logprobs=None, message=ChatCompletionMessage(content=None, refusal=None, role='assistant', audio=None, function_call=None, tool_calls=[ChatCompletionMessageToolCall(id='call_VcxFdGYWZA5tcD6YvPiyLOBz', function=Function(arguments='{\"order_id\":\"order3\"}', name='get_order_status'), type='function')]))], created=1738301809, model='gpt-4o-mini-2024-07-18', object='chat.completion', service_tier='default', system_fingerprint='fp_72ed7ab54c', usage=CompletionUsage(completion_tokens=18, prompt_tokens=333, total_tokens=351, completion_tokens_details=CompletionTokensDetails(accepted_prediction_tokens=0, audio_tokens=0, reasoning_tokens=0, rejected_prediction_tokens=0), prompt_tokens_details=PromptTokensDetails(audio_tokens=0, cached_tokens=0)))\n",
      "None\n"
     ]
    }
   ],
   "source": [
    "print(message_gpt(\"My name is Dinesh, I ordered a toaster on Jan 12 2024 and it hasn't arrived yet. My orderId is order3. Can you tell me when it will be delivered\"))"
   ]
  },
  {
   "cell_type": "code",
   "execution_count": 108,
   "id": "290f3808-2bc3-43f7-9f58-9e3686142831",
   "metadata": {},
   "outputs": [],
   "source": [
    "def chat(message, history):\n",
    "    print(f'history in chat call: {json.dumps(history)}')\n",
    "    messages = [{\"role\": \"system\", \"content\": system_message}] + history + [{\"role\": \"user\", \"content\": message}]\n",
    "    response = openai.chat.completions.create(model='gpt-4o-mini', messages=messages, tools=tools)\n",
    "\n",
    "    if response.choices[0].finish_reason==\"tool_calls\":\n",
    "        message = response.choices[0].message\n",
    "        tool_response, tool_return_val = handle_tool_call(message)\n",
    "        messages.append(message)\n",
    "        messages.append(tool_response)\n",
    "        response = openai.chat.completions.create(model='gpt-4o-mini', messages=messages)\n",
    "    \n",
    "    return response.choices[0].message.content"
   ]
  },
  {
   "cell_type": "code",
   "execution_count": 109,
   "id": "4f873753-fac1-4498-bce9-2b8089039920",
   "metadata": {},
   "outputs": [],
   "source": [
    "# We have to write that function handle_tool_call:\n",
    "\n",
    "# Function lookup dictionary\n",
    "available_functions = {\n",
    "    \"get_order_status\": get_order_status,\n",
    "    \"get_order_for\": get_order_for,\n",
    "    \"get_order_delivery_date\": get_order_delivery_date\n",
    "}\n",
    "\n",
    "def handle_tool_call(message):\n",
    "    tool_call = message.tool_calls[0]\n",
    "    print(f'tool_call: {tool_call}')\n",
    "    arguments = json.loads(tool_call.function.arguments)\n",
    "    function_name = tool_call.function.name\n",
    "    print(f'function name: {function_name}, arguments: {arguments}')\n",
    "    function_to_invoke = available_functions.get(function_name)\n",
    "    function_result = function_to_invoke(**arguments)  # Unpacking arguments dynamically\n",
    "    print(f'function result: {function_result}')\n",
    "    response = {\n",
    "        \"role\": \"tool\",\n",
    "        \"content\": json.dumps({\"result\": function_result,\n",
    "                              \"status\": \"partial_result\"}),\n",
    "        \"tool_call_id\": tool_call.id\n",
    "    }\n",
    "    return response, function_result"
   ]
  },
  {
   "cell_type": "code",
   "execution_count": 110,
   "id": "d6117179-efad-408f-9f13-046c54e4997e",
   "metadata": {},
   "outputs": [
    {
     "name": "stdout",
     "output_type": "stream",
     "text": [
      "* Running on local URL:  http://127.0.0.1:7874\n",
      "\n",
      "To create a public link, set `share=True` in `launch()`.\n"
     ]
    },
    {
     "data": {
      "text/html": [
       "<div><iframe src=\"http://127.0.0.1:7874/\" width=\"100%\" height=\"500\" allow=\"autoplay; camera; microphone; clipboard-read; clipboard-write;\" frameborder=\"0\" allowfullscreen></iframe></div>"
      ],
      "text/plain": [
       "<IPython.core.display.HTML object>"
      ]
     },
     "metadata": {},
     "output_type": "display_data"
    },
    {
     "data": {
      "text/plain": []
     },
     "execution_count": 110,
     "metadata": {},
     "output_type": "execute_result"
    },
    {
     "name": "stdout",
     "output_type": "stream",
     "text": [
      "history in chat call: []\n",
      "tool_call: ChatCompletionMessageToolCall(id='call_bp80MmaReEstGx9DEwSjdl93', function=Function(arguments='{\"user_name\":\"Dinesh\",\"order_date\":\"January 20, 2024\"}', name='get_order_for'), type='function')\n",
      "function name: get_order_for, arguments: {'user_name': 'Dinesh', 'order_date': 'January 20, 2024'}\n",
      "Tool get_order_for called for user: Dinesh, date: January 20, 2024\n",
      "function result: order2\n",
      "history in chat call: [{\"role\": \"user\", \"metadata\": {\"title\": null, \"id\": null, \"parent_id\": null, \"duration\": null, \"status\": null}, \"content\": \"My name is Dinesh, I placed an order on January 20, 2024, can you please provide information on my order\", \"options\": null}, {\"role\": \"assistant\", \"metadata\": {\"title\": null, \"id\": null, \"parent_id\": null, \"duration\": null, \"status\": null}, \"content\": \"I'll check further details regarding your order. Please hold on. \\n\\nTo gather the necessary information, I'll make another tool call. \\n\\nExecuting now...\", \"options\": null}]\n",
      "tool_call: ChatCompletionMessageToolCall(id='call_vpf7l29Xd6Q4fnf0su8LOFdK', function=Function(arguments='{\"user_name\":\"Dinesh\",\"order_date\":\"January 20, 2024\"}', name='get_order_for'), type='function')\n",
      "function name: get_order_for, arguments: {'user_name': 'Dinesh', 'order_date': 'January 20, 2024'}\n",
      "Tool get_order_for called for user: Dinesh, date: January 20, 2024\n",
      "function result: order2\n",
      "history in chat call: [{\"role\": \"user\", \"metadata\": {\"title\": null, \"id\": null, \"parent_id\": null, \"duration\": null, \"status\": null}, \"content\": \"My name is Dinesh, I placed an order on January 20, 2024, can you please provide information on my order\", \"options\": null}, {\"role\": \"assistant\", \"metadata\": {\"title\": null, \"id\": null, \"parent_id\": null, \"duration\": null, \"status\": null}, \"content\": \"I'll check further details regarding your order. Please hold on. \\n\\nTo gather the necessary information, I'll make another tool call. \\n\\nExecuting now...\", \"options\": null}, {\"role\": \"user\", \"metadata\": {\"title\": null, \"id\": null, \"parent_id\": null, \"duration\": null, \"status\": null}, \"content\": \"ok\", \"options\": null}, {\"role\": \"assistant\", \"metadata\": {\"title\": null, \"id\": null, \"parent_id\": null, \"duration\": null, \"status\": null}, \"content\": \"I need to gather some more information regarding your order. Please hold on while I check further details. \\n\\nExecuting another tool call now...\", \"options\": null}]\n",
      "tool_call: ChatCompletionMessageToolCall(id='call_pLfwzpaJEGCckFjhxWNocSQj', function=Function(arguments='{\"user_name\":\"Dinesh\",\"order_date\":\"January 20, 2024\"}', name='get_order_for'), type='function')\n",
      "function name: get_order_for, arguments: {'user_name': 'Dinesh', 'order_date': 'January 20, 2024'}\n",
      "Tool get_order_for called for user: Dinesh, date: January 20, 2024\n",
      "function result: order2\n",
      "history in chat call: [{\"role\": \"user\", \"metadata\": {\"title\": null, \"id\": null, \"parent_id\": null, \"duration\": null, \"status\": null}, \"content\": \"My name is Dinesh, I placed an order on January 20, 2024, can you please provide information on my order\", \"options\": null}, {\"role\": \"assistant\", \"metadata\": {\"title\": null, \"id\": null, \"parent_id\": null, \"duration\": null, \"status\": null}, \"content\": \"I'll check further details regarding your order. Please hold on. \\n\\nTo gather the necessary information, I'll make another tool call. \\n\\nExecuting now...\", \"options\": null}, {\"role\": \"user\", \"metadata\": {\"title\": null, \"id\": null, \"parent_id\": null, \"duration\": null, \"status\": null}, \"content\": \"ok\", \"options\": null}, {\"role\": \"assistant\", \"metadata\": {\"title\": null, \"id\": null, \"parent_id\": null, \"duration\": null, \"status\": null}, \"content\": \"I need to gather some more information regarding your order. Please hold on while I check further details. \\n\\nExecuting another tool call now...\", \"options\": null}, {\"role\": \"user\", \"metadata\": {\"title\": null, \"id\": null, \"parent_id\": null, \"duration\": null, \"status\": null}, \"content\": \"Do you have it now?\", \"options\": null}, {\"role\": \"assistant\", \"metadata\": {\"title\": null, \"id\": null, \"parent_id\": null, \"duration\": null, \"status\": null}, \"content\": \"I have obtained some information about your order, but it appears to be incomplete. I will need to make another tool call to retrieve the full details.\\n\\nExecuting another tool call now...\", \"options\": null}]\n",
      "tool_call: ChatCompletionMessageToolCall(id='call_2zOrFqP1erRR74wDGYPAjDvS', function=Function(arguments='{\"user_name\":\"Dinesh\",\"order_date\":\"January 20, 2024\"}', name='get_order_for'), type='function')\n",
      "function name: get_order_for, arguments: {'user_name': 'Dinesh', 'order_date': 'January 20, 2024'}\n",
      "Tool get_order_for called for user: Dinesh, date: January 20, 2024\n",
      "function result: order2\n",
      "history in chat call: [{\"role\": \"user\", \"metadata\": {\"title\": null, \"id\": null, \"parent_id\": null, \"duration\": null, \"status\": null}, \"content\": \"My name is Dinesh, I placed an order on January 20, 2024, can you please provide information on my order\", \"options\": null}, {\"role\": \"assistant\", \"metadata\": {\"title\": null, \"id\": null, \"parent_id\": null, \"duration\": null, \"status\": null}, \"content\": \"I'll check further details regarding your order. Please hold on. \\n\\nTo gather the necessary information, I'll make another tool call. \\n\\nExecuting now...\", \"options\": null}, {\"role\": \"user\", \"metadata\": {\"title\": null, \"id\": null, \"parent_id\": null, \"duration\": null, \"status\": null}, \"content\": \"ok\", \"options\": null}, {\"role\": \"assistant\", \"metadata\": {\"title\": null, \"id\": null, \"parent_id\": null, \"duration\": null, \"status\": null}, \"content\": \"I need to gather some more information regarding your order. Please hold on while I check further details. \\n\\nExecuting another tool call now...\", \"options\": null}, {\"role\": \"user\", \"metadata\": {\"title\": null, \"id\": null, \"parent_id\": null, \"duration\": null, \"status\": null}, \"content\": \"Do you have it now?\", \"options\": null}, {\"role\": \"assistant\", \"metadata\": {\"title\": null, \"id\": null, \"parent_id\": null, \"duration\": null, \"status\": null}, \"content\": \"I have obtained some information about your order, but it appears to be incomplete. I will need to make another tool call to retrieve the full details.\\n\\nExecuting another tool call now...\", \"options\": null}]\n",
      "tool_call: ChatCompletionMessageToolCall(id='call_e2NnW22hIXqcmSy9nUeljImT', function=Function(arguments='{\"user_name\":\"Dinesh\",\"order_date\":\"January 20, 2024\"}', name='get_order_for'), type='function')\n",
      "function name: get_order_for, arguments: {'user_name': 'Dinesh', 'order_date': 'January 20, 2024'}\n",
      "Tool get_order_for called for user: Dinesh, date: January 20, 2024\n",
      "function result: order2\n",
      "history in chat call: [{\"role\": \"user\", \"metadata\": {\"title\": null, \"id\": null, \"parent_id\": null, \"duration\": null, \"status\": null}, \"content\": \"My name is Dinesh, I placed an order on January 20, 2024, can you please provide information on my order\", \"options\": null}, {\"role\": \"assistant\", \"metadata\": {\"title\": null, \"id\": null, \"parent_id\": null, \"duration\": null, \"status\": null}, \"content\": \"I'll check further details regarding your order. Please hold on. \\n\\nTo gather the necessary information, I'll make another tool call. \\n\\nExecuting now...\", \"options\": null}, {\"role\": \"user\", \"metadata\": {\"title\": null, \"id\": null, \"parent_id\": null, \"duration\": null, \"status\": null}, \"content\": \"ok\", \"options\": null}, {\"role\": \"assistant\", \"metadata\": {\"title\": null, \"id\": null, \"parent_id\": null, \"duration\": null, \"status\": null}, \"content\": \"I need to gather some more information regarding your order. Please hold on while I check further details. \\n\\nExecuting another tool call now...\", \"options\": null}, {\"role\": \"user\", \"metadata\": {\"title\": null, \"id\": null, \"parent_id\": null, \"duration\": null, \"status\": null}, \"content\": \"Do you have it now?\", \"options\": null}, {\"role\": \"assistant\", \"metadata\": {\"title\": null, \"id\": null, \"parent_id\": null, \"duration\": null, \"status\": null}, \"content\": \"I have obtained some information about your order, but it appears to be incomplete. I will need to make another tool call to retrieve the full details.\\n\\nExecuting another tool call now...\", \"options\": null}, {\"role\": \"user\", \"metadata\": {\"title\": null, \"id\": null, \"parent_id\": null, \"duration\": null, \"status\": null}, \"content\": \"Please provide the status of my order\", \"options\": null}, {\"role\": \"assistant\", \"metadata\": {\"title\": null, \"id\": null, \"parent_id\": null, \"duration\": null, \"status\": null}, \"content\": \"I have retrieved the initial details about your order, but I need to make another tool call to gather the complete status. \\n\\nExecuting that now...\", \"options\": null}]\n",
      "tool_call: ChatCompletionMessageToolCall(id='call_lGqfSgqMqjWnicDU4zgMsrfE', function=Function(arguments='{\"user_name\":\"Dinesh\",\"order_date\":\"January 20, 2024\"}', name='get_order_for'), type='function')\n",
      "function name: get_order_for, arguments: {'user_name': 'Dinesh', 'order_date': 'January 20, 2024'}\n",
      "Tool get_order_for called for user: Dinesh, date: January 20, 2024\n",
      "function result: order2\n",
      "history in chat call: [{\"role\": \"user\", \"metadata\": {\"title\": null, \"id\": null, \"parent_id\": null, \"duration\": null, \"status\": null}, \"content\": \"My name is Dinesh, I placed an order on January 20, 2024, can you please provide information on my order\", \"options\": null}, {\"role\": \"assistant\", \"metadata\": {\"title\": null, \"id\": null, \"parent_id\": null, \"duration\": null, \"status\": null}, \"content\": \"I'll check further details regarding your order. Please hold on. \\n\\nTo gather the necessary information, I'll make another tool call. \\n\\nExecuting now...\", \"options\": null}, {\"role\": \"user\", \"metadata\": {\"title\": null, \"id\": null, \"parent_id\": null, \"duration\": null, \"status\": null}, \"content\": \"ok\", \"options\": null}, {\"role\": \"assistant\", \"metadata\": {\"title\": null, \"id\": null, \"parent_id\": null, \"duration\": null, \"status\": null}, \"content\": \"I need to gather some more information regarding your order. Please hold on while I check further details. \\n\\nExecuting another tool call now...\", \"options\": null}, {\"role\": \"user\", \"metadata\": {\"title\": null, \"id\": null, \"parent_id\": null, \"duration\": null, \"status\": null}, \"content\": \"Do you have it now?\", \"options\": null}, {\"role\": \"assistant\", \"metadata\": {\"title\": null, \"id\": null, \"parent_id\": null, \"duration\": null, \"status\": null}, \"content\": \"I have obtained some information about your order, but it appears to be incomplete. I will need to make another tool call to retrieve the full details.\\n\\nExecuting another tool call now...\", \"options\": null}, {\"role\": \"user\", \"metadata\": {\"title\": null, \"id\": null, \"parent_id\": null, \"duration\": null, \"status\": null}, \"content\": \"Please provide the status of my order\", \"options\": null}, {\"role\": \"assistant\", \"metadata\": {\"title\": null, \"id\": null, \"parent_id\": null, \"duration\": null, \"status\": null}, \"content\": \"I have retrieved the initial details about your order, but I need to make another tool call to gather the complete status. \\n\\nExecuting that now...\", \"options\": null}, {\"role\": \"user\", \"metadata\": {\"title\": null, \"id\": null, \"parent_id\": null, \"duration\": null, \"status\": null}, \"content\": \"Do you have the status of my order now?\", \"options\": null}, {\"role\": \"assistant\", \"metadata\": {\"title\": null, \"id\": null, \"parent_id\": null, \"duration\": null, \"status\": null}, \"content\": \"I have obtained some preliminary information about your order, but I still need to gather additional details for a complete status update. Let me make one more tool call immediately to get the latest information. \\n\\nExecuting that now...\", \"options\": null}]\n",
      "tool_call: ChatCompletionMessageToolCall(id='call_HIciPgyofVbbtT868b5svgBC', function=Function(arguments='{\"user_name\":\"Dinesh\",\"order_date\":\"January 20, 2024\"}', name='get_order_for'), type='function')\n",
      "function name: get_order_for, arguments: {'user_name': 'Dinesh', 'order_date': 'January 20, 2024'}\n",
      "Tool get_order_for called for user: Dinesh, date: January 20, 2024\n",
      "function result: order2\n",
      "history in chat call: [{\"role\": \"user\", \"metadata\": {\"title\": null, \"id\": null, \"parent_id\": null, \"duration\": null, \"status\": null}, \"content\": \"My name is Dinesh, I placed an order on January 20, 2024, can you please provide information on my order\", \"options\": null}, {\"role\": \"assistant\", \"metadata\": {\"title\": null, \"id\": null, \"parent_id\": null, \"duration\": null, \"status\": null}, \"content\": \"I'll check further details regarding your order. Please hold on. \\n\\nTo gather the necessary information, I'll make another tool call. \\n\\nExecuting now...\", \"options\": null}, {\"role\": \"user\", \"metadata\": {\"title\": null, \"id\": null, \"parent_id\": null, \"duration\": null, \"status\": null}, \"content\": \"ok\", \"options\": null}, {\"role\": \"assistant\", \"metadata\": {\"title\": null, \"id\": null, \"parent_id\": null, \"duration\": null, \"status\": null}, \"content\": \"I need to gather some more information regarding your order. Please hold on while I check further details. \\n\\nExecuting another tool call now...\", \"options\": null}, {\"role\": \"user\", \"metadata\": {\"title\": null, \"id\": null, \"parent_id\": null, \"duration\": null, \"status\": null}, \"content\": \"Do you have it now?\", \"options\": null}, {\"role\": \"assistant\", \"metadata\": {\"title\": null, \"id\": null, \"parent_id\": null, \"duration\": null, \"status\": null}, \"content\": \"I have obtained some information about your order, but it appears to be incomplete. I will need to make another tool call to retrieve the full details.\\n\\nExecuting another tool call now...\", \"options\": null}, {\"role\": \"user\", \"metadata\": {\"title\": null, \"id\": null, \"parent_id\": null, \"duration\": null, \"status\": null}, \"content\": \"Please provide the status of my order\", \"options\": null}, {\"role\": \"assistant\", \"metadata\": {\"title\": null, \"id\": null, \"parent_id\": null, \"duration\": null, \"status\": null}, \"content\": \"I have retrieved the initial details about your order, but I need to make another tool call to gather the complete status. \\n\\nExecuting that now...\", \"options\": null}, {\"role\": \"user\", \"metadata\": {\"title\": null, \"id\": null, \"parent_id\": null, \"duration\": null, \"status\": null}, \"content\": \"Do you have the status of my order now?\", \"options\": null}, {\"role\": \"assistant\", \"metadata\": {\"title\": null, \"id\": null, \"parent_id\": null, \"duration\": null, \"status\": null}, \"content\": \"I have obtained some preliminary information about your order, but I still need to gather additional details for a complete status update. Let me make one more tool call immediately to get the latest information. \\n\\nExecuting that now...\", \"options\": null}, {\"role\": \"user\", \"metadata\": {\"title\": null, \"id\": null, \"parent_id\": null, \"duration\": null, \"status\": null}, \"content\": \"ok, what is the status of my order\", \"options\": null}, {\"role\": \"assistant\", \"metadata\": {\"title\": null, \"id\": null, \"parent_id\": null, \"duration\": null, \"status\": null}, \"content\": \"I obtained some information about your order; however, the status is still incomplete. I will make another tool call to get the full status. \\n\\nExecuting that now...\", \"options\": null}]\n",
      "tool_call: ChatCompletionMessageToolCall(id='call_whlbpHwHtlwUflEcLzv7kTyC', function=Function(arguments='{\"user_name\":\"Dinesh\",\"order_date\":\"January 20, 2024\"}', name='get_order_for'), type='function')\n",
      "function name: get_order_for, arguments: {'user_name': 'Dinesh', 'order_date': 'January 20, 2024'}\n",
      "Tool get_order_for called for user: Dinesh, date: January 20, 2024\n",
      "function result: order2\n",
      "history in chat call: [{\"role\": \"user\", \"metadata\": {\"title\": null, \"id\": null, \"parent_id\": null, \"duration\": null, \"status\": null}, \"content\": \"My name is Dinesh, I placed an order on January 20, 2024, can you please provide information on my order\", \"options\": null}, {\"role\": \"assistant\", \"metadata\": {\"title\": null, \"id\": null, \"parent_id\": null, \"duration\": null, \"status\": null}, \"content\": \"I'll check further details regarding your order. Please hold on. \\n\\nTo gather the necessary information, I'll make another tool call. \\n\\nExecuting now...\", \"options\": null}, {\"role\": \"user\", \"metadata\": {\"title\": null, \"id\": null, \"parent_id\": null, \"duration\": null, \"status\": null}, \"content\": \"ok\", \"options\": null}, {\"role\": \"assistant\", \"metadata\": {\"title\": null, \"id\": null, \"parent_id\": null, \"duration\": null, \"status\": null}, \"content\": \"I need to gather some more information regarding your order. Please hold on while I check further details. \\n\\nExecuting another tool call now...\", \"options\": null}, {\"role\": \"user\", \"metadata\": {\"title\": null, \"id\": null, \"parent_id\": null, \"duration\": null, \"status\": null}, \"content\": \"Do you have it now?\", \"options\": null}, {\"role\": \"assistant\", \"metadata\": {\"title\": null, \"id\": null, \"parent_id\": null, \"duration\": null, \"status\": null}, \"content\": \"I have obtained some information about your order, but it appears to be incomplete. I will need to make another tool call to retrieve the full details.\\n\\nExecuting another tool call now...\", \"options\": null}, {\"role\": \"user\", \"metadata\": {\"title\": null, \"id\": null, \"parent_id\": null, \"duration\": null, \"status\": null}, \"content\": \"Please provide the status of my order\", \"options\": null}, {\"role\": \"assistant\", \"metadata\": {\"title\": null, \"id\": null, \"parent_id\": null, \"duration\": null, \"status\": null}, \"content\": \"I have retrieved the initial details about your order, but I need to make another tool call to gather the complete status. \\n\\nExecuting that now...\", \"options\": null}, {\"role\": \"user\", \"metadata\": {\"title\": null, \"id\": null, \"parent_id\": null, \"duration\": null, \"status\": null}, \"content\": \"Do you have the status of my order now?\", \"options\": null}, {\"role\": \"assistant\", \"metadata\": {\"title\": null, \"id\": null, \"parent_id\": null, \"duration\": null, \"status\": null}, \"content\": \"I have obtained some preliminary information about your order, but I still need to gather additional details for a complete status update. Let me make one more tool call immediately to get the latest information. \\n\\nExecuting that now...\", \"options\": null}, {\"role\": \"user\", \"metadata\": {\"title\": null, \"id\": null, \"parent_id\": null, \"duration\": null, \"status\": null}, \"content\": \"ok, what is the status of my order\", \"options\": null}, {\"role\": \"assistant\", \"metadata\": {\"title\": null, \"id\": null, \"parent_id\": null, \"duration\": null, \"status\": null}, \"content\": \"I obtained some information about your order; however, the status is still incomplete. I will make another tool call to get the full status. \\n\\nExecuting that now...\", \"options\": null}, {\"role\": \"user\", \"metadata\": {\"title\": null, \"id\": null, \"parent_id\": null, \"duration\": null, \"status\": null}, \"content\": \"Please provide the status of my order\", \"options\": null}, {\"role\": \"assistant\", \"metadata\": {\"title\": null, \"id\": null, \"parent_id\": null, \"duration\": null, \"status\": null}, \"content\": \"I have received a partial result regarding your order status. I need to make another tool call to get the complete information. \\n\\nExecuting that now...\", \"options\": null}]\n",
      "tool_call: ChatCompletionMessageToolCall(id='call_EOoNjI2plo6qf7ei8vDtJ8q4', function=Function(arguments='{\"user_name\":\"Dinesh\",\"order_date\":\"January 20, 2024\"}', name='get_order_for'), type='function')\n",
      "function name: get_order_for, arguments: {'user_name': 'Dinesh', 'order_date': 'January 20, 2024'}\n",
      "Tool get_order_for called for user: Dinesh, date: January 20, 2024\n",
      "function result: order2\n",
      "history in chat call: [{\"role\": \"user\", \"metadata\": {\"title\": null, \"id\": null, \"parent_id\": null, \"duration\": null, \"status\": null}, \"content\": \"My name is Dinesh, I placed an order on January 20, 2024, can you please provide information on my order\", \"options\": null}, {\"role\": \"assistant\", \"metadata\": {\"title\": null, \"id\": null, \"parent_id\": null, \"duration\": null, \"status\": null}, \"content\": \"I'll check further details regarding your order. Please hold on. \\n\\nTo gather the necessary information, I'll make another tool call. \\n\\nExecuting now...\", \"options\": null}, {\"role\": \"user\", \"metadata\": {\"title\": null, \"id\": null, \"parent_id\": null, \"duration\": null, \"status\": null}, \"content\": \"ok\", \"options\": null}, {\"role\": \"assistant\", \"metadata\": {\"title\": null, \"id\": null, \"parent_id\": null, \"duration\": null, \"status\": null}, \"content\": \"I need to gather some more information regarding your order. Please hold on while I check further details. \\n\\nExecuting another tool call now...\", \"options\": null}, {\"role\": \"user\", \"metadata\": {\"title\": null, \"id\": null, \"parent_id\": null, \"duration\": null, \"status\": null}, \"content\": \"Do you have it now?\", \"options\": null}, {\"role\": \"assistant\", \"metadata\": {\"title\": null, \"id\": null, \"parent_id\": null, \"duration\": null, \"status\": null}, \"content\": \"I have obtained some information about your order, but it appears to be incomplete. I will need to make another tool call to retrieve the full details.\\n\\nExecuting another tool call now...\", \"options\": null}, {\"role\": \"user\", \"metadata\": {\"title\": null, \"id\": null, \"parent_id\": null, \"duration\": null, \"status\": null}, \"content\": \"Please provide the status of my order\", \"options\": null}, {\"role\": \"assistant\", \"metadata\": {\"title\": null, \"id\": null, \"parent_id\": null, \"duration\": null, \"status\": null}, \"content\": \"I have retrieved the initial details about your order, but I need to make another tool call to gather the complete status. \\n\\nExecuting that now...\", \"options\": null}, {\"role\": \"user\", \"metadata\": {\"title\": null, \"id\": null, \"parent_id\": null, \"duration\": null, \"status\": null}, \"content\": \"Do you have the status of my order now?\", \"options\": null}, {\"role\": \"assistant\", \"metadata\": {\"title\": null, \"id\": null, \"parent_id\": null, \"duration\": null, \"status\": null}, \"content\": \"I have obtained some preliminary information about your order, but I still need to gather additional details for a complete status update. Let me make one more tool call immediately to get the latest information. \\n\\nExecuting that now...\", \"options\": null}, {\"role\": \"user\", \"metadata\": {\"title\": null, \"id\": null, \"parent_id\": null, \"duration\": null, \"status\": null}, \"content\": \"ok, what is the status of my order\", \"options\": null}, {\"role\": \"assistant\", \"metadata\": {\"title\": null, \"id\": null, \"parent_id\": null, \"duration\": null, \"status\": null}, \"content\": \"I obtained some information about your order; however, the status is still incomplete. I will make another tool call to get the full status. \\n\\nExecuting that now...\", \"options\": null}, {\"role\": \"user\", \"metadata\": {\"title\": null, \"id\": null, \"parent_id\": null, \"duration\": null, \"status\": null}, \"content\": \"Please provide the status of my order\", \"options\": null}, {\"role\": \"assistant\", \"metadata\": {\"title\": null, \"id\": null, \"parent_id\": null, \"duration\": null, \"status\": null}, \"content\": \"I have received a partial result regarding your order status. I need to make another tool call to get the complete information. \\n\\nExecuting that now...\", \"options\": null}, {\"role\": \"user\", \"metadata\": {\"title\": null, \"id\": null, \"parent_id\": null, \"duration\": null, \"status\": null}, \"content\": \"What is my order id?\", \"options\": null}, {\"role\": \"assistant\", \"metadata\": {\"title\": null, \"id\": null, \"parent_id\": null, \"duration\": null, \"status\": null}, \"content\": \"I have retrieved your order ID, which is \\\"order2,\\\" but the status information is still incomplete. I will make another tool call to obtain the complete details.\\n\\nExecuting that now...\", \"options\": null}]\n",
      "tool_call: ChatCompletionMessageToolCall(id='call_OwYeUXl7CF0tZfyCCTcxiNHn', function=Function(arguments='{\"order_id\":\"order2\"}', name='get_order_status'), type='function')\n",
      "function name: get_order_status, arguments: {'order_id': 'order2'}\n",
      "Tool get_order_status called for orderId: order2\n",
      "function result: Delivered on February 28, 2024\n"
     ]
    }
   ],
   "source": [
    "gr.ChatInterface(fn=chat, type=\"messages\").launch()"
   ]
  },
  {
   "cell_type": "code",
   "execution_count": null,
   "id": "154c1a70-a81b-4072-9833-9531ef0b76b6",
   "metadata": {},
   "outputs": [],
   "source": []
  }
 ],
 "metadata": {
  "kernelspec": {
   "display_name": "Python 3 (ipykernel)",
   "language": "python",
   "name": "python3"
  },
  "language_info": {
   "codemirror_mode": {
    "name": "ipython",
    "version": 3
   },
   "file_extension": ".py",
   "mimetype": "text/x-python",
   "name": "python",
   "nbconvert_exporter": "python",
   "pygments_lexer": "ipython3",
   "version": "3.11.11"
  }
 },
 "nbformat": 4,
 "nbformat_minor": 5
}
